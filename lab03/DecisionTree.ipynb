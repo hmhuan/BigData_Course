{
 "cells": [
  {
   "cell_type": "code",
   "execution_count": 1,
   "metadata": {},
   "outputs": [],
   "source": [
    "import findspark\n",
    "findspark.init()"
   ]
  },
  {
   "cell_type": "code",
   "execution_count": 2,
   "metadata": {},
   "outputs": [],
   "source": [
    "import pyspark # only run after findspark.init()\n",
    "from pyspark.sql import SparkSession\n",
    "spark = SparkSession.builder.getOrCreate()"
   ]
  },
  {
   "cell_type": "code",
   "execution_count": 3,
   "metadata": {},
   "outputs": [],
   "source": [
    "data = spark.read.csv(\"Absenteeism_at_work.csv\", header = True, sep=\",\")"
   ]
  },
  {
   "cell_type": "code",
   "execution_count": 5,
   "metadata": {},
   "outputs": [
    {
     "data": {
      "text/plain": [
       "StructType(List(StructField(ID,StringType,true),StructField(Reason for absence,StringType,true),StructField(Month of absence,StringType,true),StructField(Day of the week,StringType,true),StructField(Seasons,StringType,true),StructField(Transportation expense,StringType,true),StructField(Distance from Residence to Work,StringType,true),StructField(Service time,StringType,true),StructField(Age,StringType,true),StructField(Work load Average/day ,StringType,true),StructField(Hit target,StringType,true),StructField(Disciplinary_failure,StringType,true),StructField(Education,StringType,true),StructField(Son,StringType,true),StructField(Social drinker,StringType,true),StructField(Social smoker,StringType,true),StructField(Pet,StringType,true),StructField(Weight,StringType,true),StructField(Height,StringType,true),StructField(Body mass index,StringType,true),StructField(Absenteeism_time_in_hours,StringType,true)))"
      ]
     },
     "execution_count": 5,
     "metadata": {},
     "output_type": "execute_result"
    }
   ],
   "source": [
    "data.schema"
   ]
  },
  {
   "cell_type": "markdown",
   "metadata": {},
   "source": [
    "---"
   ]
  },
  {
   "cell_type": "code",
   "execution_count": 4,
   "metadata": {},
   "outputs": [],
   "source": [
    "data = data.withColumn(\"MOA\", data[\"Month of absence\"] - 0). \\\n",
    "            withColumn(\"label\", data['Height'] - 0). \\\n",
    "            withColumn(\"ROA\", data[\"Reason for absence\"] - 0). \\\n",
    "            withColumn(\"distance\", data[\"Distance from Residence to Work\"] - 0). \\\n",
    "            withColumn(\"BMI\", data[\"Body mass index\"] - 0)"
   ]
  },
  {
   "cell_type": "code",
   "execution_count": 8,
   "metadata": {},
   "outputs": [
    {
     "name": "stdout",
     "output_type": "stream",
     "text": [
      "+---+-----+----+--------+----+\n",
      "|MOA|label| ROA|distance| BMI|\n",
      "+---+-----+----+--------+----+\n",
      "|7.0|172.0|26.0|    36.0|30.0|\n",
      "|7.0|178.0| 0.0|    13.0|31.0|\n",
      "|7.0|170.0|23.0|    51.0|31.0|\n",
      "|7.0|168.0| 7.0|     5.0|24.0|\n",
      "|7.0|172.0|23.0|    36.0|30.0|\n",
      "|7.0|170.0|23.0|    51.0|31.0|\n",
      "|7.0|172.0|22.0|    52.0|27.0|\n",
      "|7.0|168.0|23.0|    50.0|23.0|\n",
      "|7.0|196.0|19.0|    12.0|25.0|\n",
      "|7.0|172.0|22.0|    11.0|29.0|\n",
      "|7.0|168.0| 1.0|    50.0|23.0|\n",
      "|7.0|168.0| 1.0|    50.0|23.0|\n",
      "|7.0|168.0|11.0|    50.0|23.0|\n",
      "|7.0|170.0|11.0|    51.0|31.0|\n",
      "|7.0|170.0|23.0|    51.0|31.0|\n",
      "|7.0|170.0|14.0|    25.0|23.0|\n",
      "|7.0|170.0|23.0|    51.0|31.0|\n",
      "|7.0|170.0|21.0|    51.0|31.0|\n",
      "|7.0|167.0|11.0|    29.0|25.0|\n",
      "|8.0|165.0|23.0|    25.0|32.0|\n",
      "+---+-----+----+--------+----+\n",
      "only showing top 20 rows\n",
      "\n"
     ]
    }
   ],
   "source": [
    "data[[\"MOA\", \"label\", \"ROA\", \"distance\", \"BMI\"]].show()"
   ]
  },
  {
   "cell_type": "code",
   "execution_count": 7,
   "metadata": {},
   "outputs": [],
   "source": [
    "from pyspark.ml.feature import VectorAssembler, StringIndexer, VectorIndexer\n",
    "from pyspark.ml.classification import DecisionTreeClassifier\n",
    "from pyspark.ml import Pipeline"
   ]
  },
  {
   "cell_type": "code",
   "execution_count": 8,
   "metadata": {},
   "outputs": [],
   "source": [
    "assem = VectorAssembler(inputCols=['label', 'distance'], outputCol='features')\n",
    "data = assem.transform(data)"
   ]
  },
  {
   "cell_type": "code",
   "execution_count": 9,
   "metadata": {},
   "outputs": [],
   "source": [
    "labelIndexer = StringIndexer(inputCol='label', outputCol='indexedLabel').fit(data)"
   ]
  },
  {
   "cell_type": "code",
   "execution_count": 10,
   "metadata": {},
   "outputs": [],
   "source": [
    "featureIndexer = VectorIndexer(inputCol=\"features\", outputCol=\"indexedFeatures\", maxCategories=4).fit(data)"
   ]
  },
  {
   "cell_type": "code",
   "execution_count": 11,
   "metadata": {},
   "outputs": [],
   "source": [
    "(trainingData, testData) = data.randomSplit([0.7, 0.3])"
   ]
  },
  {
   "cell_type": "code",
   "execution_count": 12,
   "metadata": {},
   "outputs": [],
   "source": [
    "dt = DecisionTreeClassifier(labelCol=\"indexedLabel\", featuresCol=\"indexedFeatures\")"
   ]
  },
  {
   "cell_type": "code",
   "execution_count": 13,
   "metadata": {},
   "outputs": [],
   "source": [
    "pipeline = Pipeline(stages=[labelIndexer, featureIndexer, dt])"
   ]
  },
  {
   "cell_type": "code",
   "execution_count": 14,
   "metadata": {},
   "outputs": [],
   "source": [
    "model = pipeline.fit(trainingData)"
   ]
  },
  {
   "cell_type": "code",
   "execution_count": 15,
   "metadata": {},
   "outputs": [],
   "source": [
    "# Make predictions.\n",
    "predictions = model.transform(testData)"
   ]
  },
  {
   "cell_type": "code",
   "execution_count": 16,
   "metadata": {},
   "outputs": [
    {
     "name": "stdout",
     "output_type": "stream",
     "text": [
      "+----------+------------+------------+\n",
      "|prediction|indexedLabel|    features|\n",
      "+----------+------------+------------+\n",
      "|       1.0|         1.0|[172.0,11.0]|\n",
      "|       1.0|         1.0|[172.0,11.0]|\n",
      "|       1.0|         1.0|[172.0,11.0]|\n",
      "|       1.0|         1.0|[172.0,11.0]|\n",
      "|       1.0|         1.0|[172.0,11.0]|\n",
      "+----------+------------+------------+\n",
      "only showing top 5 rows\n",
      "\n"
     ]
    }
   ],
   "source": [
    "# Select example rows to display.\n",
    "predictions.select(\"prediction\", \"indexedLabel\", \"features\").show(5)"
   ]
  },
  {
   "cell_type": "code",
   "execution_count": 18,
   "metadata": {},
   "outputs": [],
   "source": [
    "from pyspark.ml.evaluation import MulticlassClassificationEvaluator\n",
    "\n",
    "# Select (prediction, true label) and compute test error\n",
    "evaluator = MulticlassClassificationEvaluator(\n",
    "    labelCol=\"indexedLabel\", predictionCol=\"prediction\", metricName=\"accuracy\")"
   ]
  },
  {
   "cell_type": "code",
   "execution_count": 20,
   "metadata": {},
   "outputs": [],
   "source": [
    "from sklearn.metrics import confusion_matrix\n",
    "from sklearn.metrics import precision_score\n",
    "from sklearn.metrics import recall_score\n",
    "\n",
    "accuracy = evaluator.evaluate(predictions)\n",
    "\n",
    "y_true = data.select(\"BMI\").rdd.flatMap(lambda x: x).collect()\n",
    "y_pred = data.select(\"ROA\").rdd.flatMap(lambda x: x).collect()\n",
    "\n",
    "confusionmatrix = confusion_matrix(y_true, y_pred)\n",
    "\n",
    "precision = precision_score(y_true, y_pred, average='micro')\n",
    "\n",
    "recall = recall_score(y_true, y_pred, average='micro')"
   ]
  },
  {
   "cell_type": "code",
   "execution_count": 21,
   "metadata": {},
   "outputs": [],
   "source": [
    "treeModel = model.stages[2]"
   ]
  },
  {
   "cell_type": "code",
   "execution_count": 22,
   "metadata": {},
   "outputs": [
    {
     "name": "stdout",
     "output_type": "stream",
     "text": [
      "DecisionTreeClassificationModel (uid=DecisionTreeClassifier_853265e13f53) of depth 5 with 21 nodes\n",
      "Decision Tree - Test Accuracy = 0.970588\n",
      "Decision Tree - Test Error = 0.0294118\n",
      "The Confusion Matrix for Decision Tree Model is :\n",
      "[[0 0 0 ... 0 0 0]\n",
      " [0 0 0 ... 0 0 0]\n",
      " [0 0 0 ... 0 0 0]\n",
      " ...\n",
      " [2 0 0 ... 0 0 0]\n",
      " [0 0 0 ... 0 0 0]\n",
      " [5 0 0 ... 0 0 0]]\n",
      "The precision score for Decision Tree Model is: 0.02972972972972973\n",
      "The recall score for Decision Tree Model is: 0.02972972972972973\n"
     ]
    }
   ],
   "source": [
    "print(treeModel)\n",
    "print(\"Decision Tree - Test Accuracy = %g\" % (accuracy))\n",
    "print(\"Decision Tree - Test Error = %g\" % (1.0 - accuracy))\n",
    "\n",
    "print(\"The Confusion Matrix for Decision Tree Model is :\\n\" + str(confusionmatrix))\n",
    "\n",
    "print(\"The precision score for Decision Tree Model is: \" + str(precision))\n",
    "\n",
    "print(\"The recall score for Decision Tree Model is: \" + str(recall))"
   ]
  },
  {
   "cell_type": "code",
   "execution_count": null,
   "metadata": {},
   "outputs": [],
   "source": []
  }
 ],
 "metadata": {
  "kernelspec": {
   "display_name": "Python 3",
   "language": "python",
   "name": "python3"
  },
  "language_info": {
   "codemirror_mode": {
    "name": "ipython",
    "version": 3
   },
   "file_extension": ".py",
   "mimetype": "text/x-python",
   "name": "python",
   "nbconvert_exporter": "python",
   "pygments_lexer": "ipython3",
   "version": "3.7.1"
  }
 },
 "nbformat": 4,
 "nbformat_minor": 4
}
