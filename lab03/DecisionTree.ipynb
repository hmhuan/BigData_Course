{
 "cells": [
  {
   "cell_type": "code",
   "execution_count": 1,
   "metadata": {},
   "outputs": [],
   "source": [
    "import findspark\n",
    "findspark.init()"
   ]
  },
  {
   "cell_type": "code",
   "execution_count": 2,
   "metadata": {},
   "outputs": [],
   "source": [
    "import pyspark # only run after findspark.init()\n",
    "from pyspark.sql import SparkSession\n",
    "spark = SparkSession.builder.getOrCreate()"
   ]
  },
  {
   "cell_type": "markdown",
   "metadata": {
    "toc-hr-collapsed": true
   },
   "source": [
    "### dataset: Absenteeism at work"
   ]
  },
  {
   "cell_type": "code",
   "execution_count": 3,
   "metadata": {},
   "outputs": [],
   "source": [
    "data = spark.read.csv(\"Absenteeism_at_work.csv\", inferSchema=True, header = True, sep=\",\")"
   ]
  },
  {
   "cell_type": "code",
   "execution_count": 4,
   "metadata": {},
   "outputs": [
    {
     "name": "stdout",
     "output_type": "stream",
     "text": [
      "root\n",
      " |-- ID: integer (nullable = true)\n",
      " |-- Reason for absence: integer (nullable = true)\n",
      " |-- Month of absence: integer (nullable = true)\n",
      " |-- Day of the week: integer (nullable = true)\n",
      " |-- Seasons: integer (nullable = true)\n",
      " |-- Transportation expense: integer (nullable = true)\n",
      " |-- Distance from Residence to Work: integer (nullable = true)\n",
      " |-- Service time: integer (nullable = true)\n",
      " |-- Age: integer (nullable = true)\n",
      " |-- Work load Average/day : double (nullable = true)\n",
      " |-- Hit target: integer (nullable = true)\n",
      " |-- Disciplinary_failure: integer (nullable = true)\n",
      " |-- Education: integer (nullable = true)\n",
      " |-- Son: integer (nullable = true)\n",
      " |-- Social drinker: integer (nullable = true)\n",
      " |-- Social smoker: integer (nullable = true)\n",
      " |-- Pet: integer (nullable = true)\n",
      " |-- Weight: integer (nullable = true)\n",
      " |-- Height: integer (nullable = true)\n",
      " |-- Body mass index: integer (nullable = true)\n",
      " |-- Absenteeism_time_in_hours: integer (nullable = true)\n",
      "\n"
     ]
    }
   ],
   "source": [
    "data.printSchema()"
   ]
  },
  {
   "cell_type": "code",
   "execution_count": 5,
   "metadata": {},
   "outputs": [],
   "source": [
    "data = data.withColumn(\"MOA\", data[\"Month of absence\"]). \\\n",
    "            withColumn(\"label\", data['Height']). \\\n",
    "            withColumn(\"ROA\", data[\"Reason for absence\"]). \\\n",
    "            withColumn(\"distance\", data[\"Distance from Residence to Work\"]). \\\n",
    "            withColumn(\"BMI\", data[\"Body mass index\"])"
   ]
  },
  {
   "cell_type": "code",
   "execution_count": 6,
   "metadata": {},
   "outputs": [
    {
     "name": "stdout",
     "output_type": "stream",
     "text": [
      "+---+-----+---+--------+---+\n",
      "|MOA|label|ROA|distance|BMI|\n",
      "+---+-----+---+--------+---+\n",
      "|  7|  172| 26|      36| 30|\n",
      "|  7|  178|  0|      13| 31|\n",
      "|  7|  170| 23|      51| 31|\n",
      "|  7|  168|  7|       5| 24|\n",
      "|  7|  172| 23|      36| 30|\n",
      "|  7|  170| 23|      51| 31|\n",
      "|  7|  172| 22|      52| 27|\n",
      "|  7|  168| 23|      50| 23|\n",
      "|  7|  196| 19|      12| 25|\n",
      "|  7|  172| 22|      11| 29|\n",
      "|  7|  168|  1|      50| 23|\n",
      "|  7|  168|  1|      50| 23|\n",
      "|  7|  168| 11|      50| 23|\n",
      "|  7|  170| 11|      51| 31|\n",
      "|  7|  170| 23|      51| 31|\n",
      "|  7|  170| 14|      25| 23|\n",
      "|  7|  170| 23|      51| 31|\n",
      "|  7|  170| 21|      51| 31|\n",
      "|  7|  167| 11|      29| 25|\n",
      "|  8|  165| 23|      25| 32|\n",
      "+---+-----+---+--------+---+\n",
      "only showing top 20 rows\n",
      "\n"
     ]
    }
   ],
   "source": [
    "data[[\"MOA\", \"label\", \"ROA\", \"distance\", \"BMI\"]].show()"
   ]
  },
  {
   "cell_type": "code",
   "execution_count": 7,
   "metadata": {},
   "outputs": [],
   "source": [
    "from pyspark.ml.feature import VectorAssembler, StringIndexer, VectorIndexer\n",
    "from pyspark.ml.classification import DecisionTreeClassifier\n",
    "from pyspark.ml import Pipeline"
   ]
  },
  {
   "cell_type": "code",
   "execution_count": 8,
   "metadata": {},
   "outputs": [],
   "source": [
    "assem = VectorAssembler(inputCols=['label', 'distance'], outputCol='features')\n",
    "data = assem.transform(data)"
   ]
  },
  {
   "cell_type": "code",
   "execution_count": 9,
   "metadata": {},
   "outputs": [],
   "source": [
    "labelIndexer = StringIndexer(inputCol='label', outputCol='indexedLabel')"
   ]
  },
  {
   "cell_type": "code",
   "execution_count": 10,
   "metadata": {},
   "outputs": [],
   "source": [
    "featureIndexer = VectorIndexer(inputCol=\"features\", outputCol=\"indexedFeatures\", maxCategories=4)#.fit(data)"
   ]
  },
  {
   "cell_type": "code",
   "execution_count": 21,
   "metadata": {},
   "outputs": [],
   "source": [
    "(trainingData, testData) = data.randomSplit([0.7, 0.3], seed=1)"
   ]
  },
  {
   "cell_type": "code",
   "execution_count": 22,
   "metadata": {},
   "outputs": [],
   "source": [
    "dt_clf = DecisionTreeClassifier(labelCol=\"indexedLabel\", featuresCol=\"indexedFeatures\")"
   ]
  },
  {
   "cell_type": "code",
   "execution_count": 23,
   "metadata": {},
   "outputs": [],
   "source": [
    "pipeline = Pipeline(stages=[labelIndexer, featureIndexer, dt_clf])"
   ]
  },
  {
   "cell_type": "code",
   "execution_count": 24,
   "metadata": {},
   "outputs": [],
   "source": [
    "model = pipeline.fit(trainingData)"
   ]
  },
  {
   "cell_type": "code",
   "execution_count": 25,
   "metadata": {},
   "outputs": [],
   "source": [
    "# Make predictions.\n",
    "predictions = model.transform(testData)"
   ]
  },
  {
   "cell_type": "code",
   "execution_count": 31,
   "metadata": {},
   "outputs": [
    {
     "name": "stdout",
     "output_type": "stream",
     "text": [
      "+----------+------------+------------+\n",
      "|prediction|indexedLabel|    features|\n",
      "+----------+------------+------------+\n",
      "|       1.0|         1.0|[172.0,11.0]|\n",
      "|       1.0|         1.0|[172.0,11.0]|\n",
      "|       1.0|         1.0|[172.0,11.0]|\n",
      "|       1.0|         1.0|[172.0,11.0]|\n",
      "|       1.0|         1.0|[172.0,11.0]|\n",
      "|       8.0|        12.0|[163.0,29.0]|\n",
      "|       8.0|        12.0|[163.0,29.0]|\n",
      "|       0.0|         0.0|[170.0,51.0]|\n",
      "|       0.0|         0.0|[170.0,51.0]|\n",
      "|       0.0|         0.0|[170.0,51.0]|\n",
      "|       0.0|         0.0|[170.0,51.0]|\n",
      "|       0.0|         0.0|[170.0,51.0]|\n",
      "|       0.0|         0.0|[170.0,51.0]|\n",
      "|       0.0|         0.0|[170.0,51.0]|\n",
      "|       0.0|         0.0|[170.0,51.0]|\n",
      "|       0.0|         0.0|[170.0,51.0]|\n",
      "|       0.0|         0.0|[170.0,51.0]|\n",
      "|       0.0|         0.0|[170.0,51.0]|\n",
      "|       0.0|         0.0|[170.0,51.0]|\n",
      "|       0.0|         0.0|[170.0,51.0]|\n",
      "+----------+------------+------------+\n",
      "only showing top 20 rows\n",
      "\n"
     ]
    }
   ],
   "source": [
    "# Select example rows to display.\n",
    "predictions.select(\"prediction\", \"indexedLabel\", \"features\").show()"
   ]
  },
  {
   "cell_type": "code",
   "execution_count": 27,
   "metadata": {},
   "outputs": [],
   "source": [
    "from pyspark.ml.evaluation import MulticlassClassificationEvaluator\n",
    "# Select (prediction, true label) and compute test error\n",
    "evaluator = MulticlassClassificationEvaluator(labelCol=\"indexedLabel\",\\\n",
    "                                              predictionCol=\"prediction\",\\\n",
    "                                              metricName=\"accuracy\")"
   ]
  },
  {
   "cell_type": "code",
   "execution_count": 28,
   "metadata": {},
   "outputs": [],
   "source": [
    "from sklearn.metrics import confusion_matrix\n",
    "from sklearn.metrics import precision_score\n",
    "from sklearn.metrics import recall_score\n",
    "\n",
    "accuracy = evaluator.evaluate(predictions)\n",
    "\n",
    "y_true = data.select(\"BMI\").rdd.flatMap(lambda x: x).collect()\n",
    "y_pred = data.select(\"ROA\").rdd.flatMap(lambda x: x).collect()\n",
    "\n",
    "confusionmatrix = confusion_matrix(y_true, y_pred)\n",
    "\n",
    "precision = precision_score(y_true, y_pred, average='micro')\n",
    "\n",
    "recall = recall_score(y_true, y_pred, average='micro')"
   ]
  },
  {
   "cell_type": "code",
   "execution_count": 29,
   "metadata": {},
   "outputs": [],
   "source": [
    "treeModel = model.stages[2]"
   ]
  },
  {
   "cell_type": "code",
   "execution_count": 30,
   "metadata": {},
   "outputs": [
    {
     "name": "stdout",
     "output_type": "stream",
     "text": [
      "DecisionTreeClassificationModel (uid=DecisionTreeClassifier_7a83899006ed) of depth 5 with 21 nodes\n",
      "Decision Tree - Test Accuracy = 0.964286\n",
      "Decision Tree - Test Error = 0.0357143\n",
      "The Confusion Matrix for Decision Tree Model is :\n",
      "[[0 0 0 ... 0 0 0]\n",
      " [0 0 0 ... 0 0 0]\n",
      " [0 0 0 ... 0 0 0]\n",
      " ...\n",
      " [2 0 0 ... 0 0 0]\n",
      " [0 0 0 ... 0 0 0]\n",
      " [5 0 0 ... 0 0 0]]\n",
      "The precision score for Decision Tree Model is: 0.02972972972972973\n",
      "The recall score for Decision Tree Model is: 0.02972972972972973\n"
     ]
    }
   ],
   "source": [
    "print(treeModel)\n",
    "print(\"Decision Tree - Test Accuracy = %g\" % (accuracy))\n",
    "print(\"Decision Tree - Test Error = %g\" % (1.0 - accuracy))\n",
    "\n",
    "print(\"The Confusion Matrix for Decision Tree Model is :\\n\" + str(confusionmatrix))\n",
    "\n",
    "print(\"The precision score for Decision Tree Model is: \" + str(precision))\n",
    "\n",
    "print(\"The recall score for Decision Tree Model is: \" + str(recall))"
   ]
  },
  {
   "cell_type": "markdown",
   "metadata": {},
   "source": [
    "---"
   ]
  },
  {
   "cell_type": "markdown",
   "metadata": {},
   "source": [
    "### dataset: zoo"
   ]
  },
  {
   "cell_type": "code",
   "execution_count": 15,
   "metadata": {},
   "outputs": [],
   "source": [
    "zoo_data = spark.read.csv('zoo.csv', inferSchema=True,header=True)"
   ]
  },
  {
   "cell_type": "code",
   "execution_count": 56,
   "metadata": {},
   "outputs": [],
   "source": [
    "data = zoo_data.drop('animal_name')"
   ]
  },
  {
   "cell_type": "code",
   "execution_count": 57,
   "metadata": {},
   "outputs": [
    {
     "name": "stdout",
     "output_type": "stream",
     "text": [
      "root\n",
      " |-- hair: integer (nullable = true)\n",
      " |-- feathers: integer (nullable = true)\n",
      " |-- eggs: integer (nullable = true)\n",
      " |-- milk: integer (nullable = true)\n",
      " |-- airborne: integer (nullable = true)\n",
      " |-- aquatic: integer (nullable = true)\n",
      " |-- predator: integer (nullable = true)\n",
      " |-- toothed: integer (nullable = true)\n",
      " |-- backbone: integer (nullable = true)\n",
      " |-- breathes: integer (nullable = true)\n",
      " |-- venomous: integer (nullable = true)\n",
      " |-- fins: integer (nullable = true)\n",
      " |-- legs: integer (nullable = true)\n",
      " |-- tail: integer (nullable = true)\n",
      " |-- domestic: integer (nullable = true)\n",
      " |-- catsize: integer (nullable = true)\n",
      " |-- class_type: integer (nullable = true)\n",
      "\n"
     ]
    }
   ],
   "source": [
    "features.printSchema()"
   ]
  },
  {
   "cell_type": "code",
   "execution_count": 53,
   "metadata": {},
   "outputs": [],
   "source": [
    "assembler = VectorAssembler(inputCols=['hair', 'feathers', 'eggs', 'milk',\\\n",
    "                                      'airborne', 'aquatic', 'predator', 'toothed',\\\n",
    "                                      'backbone', 'breathes', 'venomous', 'fins',\\\n",
    "                                      'legs', 'tail', 'domestic', 'catsize'],outputCol='features')"
   ]
  },
  {
   "cell_type": "code",
   "execution_count": 54,
   "metadata": {},
   "outputs": [],
   "source": [
    "from pyspark.ml.classification import DecisionTreeClassifier\n",
    "dt_clf = DecisionTreeClassifier(featuresCol='features', labelCol='class_type')"
   ]
  },
  {
   "cell_type": "code",
   "execution_count": 55,
   "metadata": {},
   "outputs": [],
   "source": [
    "from pyspark.ml import Pipeline\n",
    "pipeline = Pipeline(stages=[assembler, dt_clf])"
   ]
  },
  {
   "cell_type": "code",
   "execution_count": 58,
   "metadata": {},
   "outputs": [],
   "source": [
    "train_data,val_data = data.randomSplit([0.8,0.2])"
   ]
  },
  {
   "cell_type": "code",
   "execution_count": 59,
   "metadata": {},
   "outputs": [],
   "source": [
    "model = pipeline.fit(train_data)"
   ]
  },
  {
   "cell_type": "code",
   "execution_count": 60,
   "metadata": {},
   "outputs": [],
   "source": [
    "validations = model.transform(val_data)"
   ]
  },
  {
   "cell_type": "code",
   "execution_count": 72,
   "metadata": {},
   "outputs": [
    {
     "name": "stdout",
     "output_type": "stream",
     "text": [
      "+----------+----------+\n",
      "|prediction|class_type|\n",
      "+----------+----------+\n",
      "|       1.0|         1|\n",
      "|       1.0|         1|\n",
      "|       4.0|         4|\n",
      "|       7.0|         7|\n",
      "|       7.0|         7|\n",
      "|       4.0|         4|\n",
      "|       4.0|         4|\n",
      "|       2.0|         2|\n",
      "|       2.0|         2|\n",
      "|       2.0|         2|\n",
      "|       2.0|         2|\n",
      "|       1.0|         1|\n",
      "|       1.0|         1|\n",
      "|       1.0|         1|\n",
      "|       1.0|         1|\n",
      "|       1.0|         1|\n",
      "|       1.0|         1|\n",
      "|       1.0|         1|\n",
      "|       1.0|         1|\n",
      "|       1.0|         1|\n",
      "+----------+----------+\n",
      "only showing top 20 rows\n",
      "\n"
     ]
    }
   ],
   "source": [
    "validations[['prediction', 'class_type']].show()"
   ]
  },
  {
   "cell_type": "code",
   "execution_count": 62,
   "metadata": {},
   "outputs": [
    {
     "name": "stdout",
     "output_type": "stream",
     "text": [
      "A Decision Tree algorithm had an accuracy of: 100.00%\n"
     ]
    }
   ],
   "source": [
    "from pyspark.ml.evaluation import MulticlassClassificationEvaluator\n",
    "# Select (prediction, true label) and compute test error\n",
    "acc_evaluator = MulticlassClassificationEvaluator(labelCol=\"class_type\", predictionCol=\"prediction\", metricName=\"accuracy\")\n",
    "dtc_acc = acc_evaluator.evaluate(validations)\n",
    "print('A Decision Tree algorithm had an accuracy of: {0:2.2f}%'.format(dtc_acc*100))"
   ]
  },
  {
   "cell_type": "code",
   "execution_count": 67,
   "metadata": {},
   "outputs": [],
   "source": [
    "from pyspark.ml.classification import RandomForestClassifier\n",
    "rf_clf = RandomForestClassifier(featuresCol='features', labelCol='class_type')"
   ]
  },
  {
   "cell_type": "code",
   "execution_count": 68,
   "metadata": {},
   "outputs": [],
   "source": [
    "pipeline = Pipeline(stages=[assembler, rf_clf])"
   ]
  },
  {
   "cell_type": "code",
   "execution_count": 69,
   "metadata": {},
   "outputs": [],
   "source": [
    "model = pipeline.fit(train_data)"
   ]
  },
  {
   "cell_type": "code",
   "execution_count": 70,
   "metadata": {},
   "outputs": [],
   "source": [
    "validations = model.transform(val_data)"
   ]
  },
  {
   "cell_type": "code",
   "execution_count": 71,
   "metadata": {},
   "outputs": [
    {
     "name": "stdout",
     "output_type": "stream",
     "text": [
      "A Decision Tree algorithm had an accuracy of: 100.00%\n"
     ]
    }
   ],
   "source": [
    "acc_evaluator = MulticlassClassificationEvaluator(labelCol=\"class_type\", predictionCol=\"prediction\", metricName=\"accuracy\")\n",
    "dtc_acc = acc_evaluator.evaluate(validations)\n",
    "print('A Decision Tree algorithm had an accuracy of: {0:2.2f}%'.format(dtc_acc*100))"
   ]
  },
  {
   "cell_type": "markdown",
   "metadata": {},
   "source": [
    "---\n"
   ]
  },
  {
   "cell_type": "markdown",
   "metadata": {
    "toc-hr-collapsed": true
   },
   "source": [
    "### Healthcare stroke dataset"
   ]
  },
  {
   "cell_type": "code",
   "execution_count": 9,
   "metadata": {},
   "outputs": [],
   "source": [
    "spark = SparkSession.builder.appName('stroke').getOrCreate()\n",
    "train = spark.read.csv('train_2v.csv', inferSchema=True,header=True)"
   ]
  },
  {
   "cell_type": "code",
   "execution_count": 10,
   "metadata": {},
   "outputs": [
    {
     "name": "stdout",
     "output_type": "stream",
     "text": [
      "root\n",
      " |-- id: integer (nullable = true)\n",
      " |-- gender: string (nullable = true)\n",
      " |-- age: double (nullable = true)\n",
      " |-- hypertension: integer (nullable = true)\n",
      " |-- heart_disease: integer (nullable = true)\n",
      " |-- ever_married: string (nullable = true)\n",
      " |-- work_type: string (nullable = true)\n",
      " |-- Residence_type: string (nullable = true)\n",
      " |-- avg_glucose_level: double (nullable = true)\n",
      " |-- bmi: double (nullable = true)\n",
      " |-- smoking_status: string (nullable = true)\n",
      " |-- stroke: integer (nullable = true)\n",
      "\n"
     ]
    }
   ],
   "source": [
    "train.printSchema()"
   ]
  },
  {
   "cell_type": "code",
   "execution_count": 12,
   "metadata": {},
   "outputs": [
    {
     "name": "stdout",
     "output_type": "stream",
     "text": [
      "+------+-----+\n",
      "|stroke|count|\n",
      "+------+-----+\n",
      "|     1|  783|\n",
      "|     0|42617|\n",
      "+------+-----+\n",
      "\n"
     ]
    }
   ],
   "source": [
    "train.groupby('stroke').count().show()"
   ]
  },
  {
   "cell_type": "code",
   "execution_count": 18,
   "metadata": {},
   "outputs": [],
   "source": [
    "train.createOrReplaceTempView('table')"
   ]
  },
  {
   "cell_type": "code",
   "execution_count": 19,
   "metadata": {},
   "outputs": [
    {
     "name": "stdout",
     "output_type": "stream",
     "text": [
      "+-------------+---------------+\n",
      "|    work_type|work_type_count|\n",
      "+-------------+---------------+\n",
      "|      Private|            441|\n",
      "|Self-employed|            251|\n",
      "|     Govt_job|             89|\n",
      "|     children|              2|\n",
      "+-------------+---------------+\n",
      "\n"
     ]
    }
   ],
   "source": [
    "spark.sql(\"SELECT work_type, count(work_type) as work_type_count FROM table WHERE stroke == 1 GROUP BY work_type ORDER BY work_type_count DESC\").show()"
   ]
  },
  {
   "cell_type": "code",
   "execution_count": 20,
   "metadata": {},
   "outputs": [
    {
     "name": "stdout",
     "output_type": "stream",
     "text": [
      "+------+------------+-------------------+\n",
      "|gender|count_gender|            percent|\n",
      "+------+------------+-------------------+\n",
      "|Female|       25665|  59.13594470046083|\n",
      "| Other|          11|0.02534562211981567|\n",
      "|  Male|       17724|  40.83870967741935|\n",
      "+------+------------+-------------------+\n",
      "\n"
     ]
    }
   ],
   "source": [
    "spark.sql(\"SELECT gender, count(gender) as count_gender, count(gender)*100/sum(count(gender)) over() as percent FROM table GROUP BY gender\").show()"
   ]
  },
  {
   "cell_type": "code",
   "execution_count": 22,
   "metadata": {},
   "outputs": [],
   "source": [
    "train_f = train.na.fill('No Info', subset=['smoking_status'])\n",
    "# fill in miss values with mean\n",
    "from pyspark.sql.functions import mean\n",
    "mean = train_f.select(mean(train_f['bmi'])).collect()\n",
    "mean_bmi = mean[0][0]\n",
    "train_f = train_f.na.fill(mean_bmi,['bmi'])"
   ]
  },
  {
   "cell_type": "code",
   "execution_count": 23,
   "metadata": {},
   "outputs": [],
   "source": [
    "from pyspark.ml.feature import VectorAssembler,OneHotEncoder,StringIndexer"
   ]
  },
  {
   "cell_type": "code",
   "execution_count": 24,
   "metadata": {},
   "outputs": [],
   "source": [
    "genderIndexer = StringIndexer(inputCol='gender', outputCol='indexedGender')\n",
    "gender_encoder = OneHotEncoder(inputCol='indexedGender', outputCol='genderVec')"
   ]
  },
  {
   "cell_type": "code",
   "execution_count": 25,
   "metadata": {},
   "outputs": [],
   "source": [
    "ever_marriedIndexer = StringIndexer(inputCol='ever_married', outputCol='indexedEver_married')\n",
    "ever_married_encoder = OneHotEncoder(inputCol='indexedEver_married', outputCol='ever_marriedVec')"
   ]
  },
  {
   "cell_type": "code",
   "execution_count": 26,
   "metadata": {},
   "outputs": [],
   "source": [
    "workTypeIndexer = StringIndexer(inputCol='work_type', outputCol='indexedWork_type')\n",
    "workType_encoder = OneHotEncoder(inputCol='indexedWork_type', outputCol='workTypeVec')"
   ]
  },
  {
   "cell_type": "code",
   "execution_count": 27,
   "metadata": {},
   "outputs": [],
   "source": [
    "ResidenceTypeIndexer = StringIndexer(inputCol='Residence_type', outputCol='indexedResidence_type')\n",
    "ResidenceType_encoder = OneHotEncoder(inputCol='indexedResidence_type', outputCol='residenceTypeVec')"
   ]
  },
  {
   "cell_type": "code",
   "execution_count": 28,
   "metadata": {},
   "outputs": [],
   "source": [
    "smoking_statusIdexer = StringIndexer(inputCol='smoking_status', outputCol='indexedSmoking_status')\n",
    "smokingStatus_encoder = OneHotEncoder(inputCol='indexedSmoking_status', outputCol='smokingStatusVec')"
   ]
  },
  {
   "cell_type": "code",
   "execution_count": 29,
   "metadata": {},
   "outputs": [],
   "source": [
    "assembler = VectorAssembler(inputCols=['genderVec','age','hypertension','heart_disease', 'ever_marriedVec','workTypeVec'\\\n",
    "                                       ,'residenceTypeVec', 'avg_glucose_level', 'bmi', 'smokingStatusVec'],outputCol='features')"
   ]
  },
  {
   "cell_type": "code",
   "execution_count": 30,
   "metadata": {},
   "outputs": [],
   "source": [
    "from pyspark.ml.classification import DecisionTreeClassifier\n",
    "dt_clf = DecisionTreeClassifier(featuresCol='features', labelCol='stroke')"
   ]
  },
  {
   "cell_type": "code",
   "execution_count": 31,
   "metadata": {},
   "outputs": [],
   "source": [
    "from pyspark.ml import Pipeline\n",
    "pipeline = Pipeline(stages=[genderIndexer, ever_marriedIndexer, workTypeIndexer, ResidenceTypeIndexer,smoking_statusIdexer,\\\n",
    "                            gender_encoder, ever_married_encoder, workType_encoder, ResidenceType_encoder, smokingStatus_encoder,\\\n",
    "                            assembler, dt_clf])"
   ]
  },
  {
   "cell_type": "code",
   "execution_count": 32,
   "metadata": {},
   "outputs": [],
   "source": [
    "train_data,val_data = train_f.randomSplit([0.8,0.2])"
   ]
  },
  {
   "cell_type": "code",
   "execution_count": 33,
   "metadata": {},
   "outputs": [],
   "source": [
    "model = pipeline.fit(train_data)"
   ]
  },
  {
   "cell_type": "code",
   "execution_count": 34,
   "metadata": {},
   "outputs": [],
   "source": [
    "validations = model.transform(val_data)"
   ]
  },
  {
   "cell_type": "code",
   "execution_count": 35,
   "metadata": {},
   "outputs": [
    {
     "name": "stdout",
     "output_type": "stream",
     "text": [
      "A Decision Tree algorithm had an accuracy of: 98.30%\n"
     ]
    }
   ],
   "source": [
    "from pyspark.ml.evaluation import MulticlassClassificationEvaluator\n",
    "# Select (prediction, true label) and compute test error\n",
    "acc_evaluator = MulticlassClassificationEvaluator(labelCol=\"stroke\", predictionCol=\"prediction\", metricName=\"accuracy\")\n",
    "dtc_acc = acc_evaluator.evaluate(validations)\n",
    "print('A Decision Tree algorithm had an accuracy of: {0:2.2f}%'.format(dtc_acc*100))"
   ]
  },
  {
   "cell_type": "code",
   "execution_count": 45,
   "metadata": {},
   "outputs": [
    {
     "name": "stdout",
     "output_type": "stream",
     "text": [
      "+----------+-----+\n",
      "|prediction|count|\n",
      "+----------+-----+\n",
      "|       0.0| 8768|\n",
      "|       1.0|    1|\n",
      "+----------+-----+\n",
      "\n"
     ]
    }
   ],
   "source": [
    "validations.groupby('prediction').count().show()"
   ]
  },
  {
   "cell_type": "code",
   "execution_count": 36,
   "metadata": {},
   "outputs": [],
   "source": [
    "test = spark.read.csv('test_2v.csv', inferSchema=True,header=True)"
   ]
  },
  {
   "cell_type": "code",
   "execution_count": 37,
   "metadata": {},
   "outputs": [],
   "source": [
    "test_f = test.na.fill('No Info', subset=['smoking_status'])\n",
    "# fill in miss values with mean\n",
    "#from pyspark.sql.functions import mean\n",
    "#mean = train_f.select(mean(train_f['bmi'])).collect()\n",
    "#mean_bmi = mean[0][0]\n",
    "test_f = test_f.na.fill(mean_bmi,['bmi'])"
   ]
  },
  {
   "cell_type": "code",
   "execution_count": 38,
   "metadata": {},
   "outputs": [],
   "source": [
    "predictions = model.transform(test_f)"
   ]
  },
  {
   "cell_type": "code",
   "execution_count": 44,
   "metadata": {},
   "outputs": [
    {
     "name": "stdout",
     "output_type": "stream",
     "text": [
      "+----------+-----+\n",
      "|prediction|count|\n",
      "+----------+-----+\n",
      "|       0.0|18601|\n",
      "+----------+-----+\n",
      "\n"
     ]
    }
   ],
   "source": [
    "predictions.groupby('prediction').count().show()"
   ]
  },
  {
   "cell_type": "code",
   "execution_count": null,
   "metadata": {},
   "outputs": [],
   "source": []
  }
 ],
 "metadata": {
  "kernelspec": {
   "display_name": "Python 3",
   "language": "python",
   "name": "python3"
  },
  "language_info": {
   "codemirror_mode": {
    "name": "ipython",
    "version": 3
   },
   "file_extension": ".py",
   "mimetype": "text/x-python",
   "name": "python",
   "nbconvert_exporter": "python",
   "pygments_lexer": "ipython3",
   "version": "3.7.1"
  },
  "toc-autonumbering": false,
  "toc-showcode": true,
  "toc-showmarkdowntxt": true,
  "toc-showtags": false
 },
 "nbformat": 4,
 "nbformat_minor": 4
}
